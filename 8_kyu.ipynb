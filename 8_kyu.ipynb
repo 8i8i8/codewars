{
 "cells": [
  {
   "cell_type": "markdown",
   "id": "f8a6a72f-06cb-486c-9b65-4ecf7b750212",
   "metadata": {},
   "source": [
    "#### Vowel remover"
   ]
  },
  {
   "cell_type": "markdown",
   "id": "871ed7f5-945a-468b-b0c6-70956f36d228",
   "metadata": {},
   "source": [
    "Create a function called shortcut to remove the lowercase vowels (a, e, i, o, u ) in a given string.\n",
    "\n",
    "Examples\n",
    "\n",
    "```\n",
    "\"hello\"     -->  \"hll\"\n",
    "\"codewars\"  -->  \"cdwrs\"\n",
    "\"goodbye\"   -->  \"gdby\"\n",
    "\"HELLO\"     -->  \"HELLO\"\n",
    "```\n",
    "\n",
    "don't worry about uppercase vowels\n",
    "\n",
    "y is not considered a vowel for this kata"
   ]
  },
  {
   "cell_type": "code",
   "execution_count": 5,
   "id": "44fe2da6-1dc1-4966-98ac-13ce8673d8d9",
   "metadata": {},
   "outputs": [],
   "source": [
    "def shortcut(s):\n",
    "    return \"\".join(letter for letter in s if letter not in \"aeiou\")"
   ]
  },
  {
   "cell_type": "code",
   "execution_count": 6,
   "id": "7f2e72b3-ea69-4482-b3cb-d1902daca84d",
   "metadata": {},
   "outputs": [],
   "source": [
    "assert shortcut('hello') == 'hll'"
   ]
  }
 ],
 "metadata": {
  "kernelspec": {
   "display_name": "Python 3 (ipykernel)",
   "language": "python",
   "name": "python3"
  },
  "language_info": {
   "codemirror_mode": {
    "name": "ipython",
    "version": 3
   },
   "file_extension": ".py",
   "mimetype": "text/x-python",
   "name": "python",
   "nbconvert_exporter": "python",
   "pygments_lexer": "ipython3",
   "version": "3.9.7"
  }
 },
 "nbformat": 4,
 "nbformat_minor": 5
}
